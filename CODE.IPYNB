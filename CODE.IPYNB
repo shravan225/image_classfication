{
 "cells": [
  {
   "cell_type": "code",
   "execution_count": 23,
   "id": "41a7f4f3",
   "metadata": {},
   "outputs": [
    {
     "name": "stdout",
     "output_type": "stream",
     "text": [
      "2.19.0\n"
     ]
    }
   ],
   "source": [
    "import numpy as np\n",
    "import tensorflow as tf\n",
    "print(tf.__version__)"
   ]
  },
  {
   "cell_type": "code",
   "execution_count": null,
   "id": "64eff2fc",
   "metadata": {},
   "outputs": [
    {
     "ename": "FileNotFoundError",
     "evalue": "[WinError 3] The system cannot find the path specified: 'C:\\\\Users\\\\samal\\\\Downloads\\\\CV\\\\animals_10\\\\raw-img'",
     "output_type": "error",
     "traceback": [
      "\u001b[31m---------------------------------------------------------------------------\u001b[39m",
      "\u001b[31mFileNotFoundError\u001b[39m                         Traceback (most recent call last)",
      "\u001b[36mCell\u001b[39m\u001b[36m \u001b[39m\u001b[32mIn[26]\u001b[39m\u001b[32m, line 9\u001b[39m\n\u001b[32m      6\u001b[39m dataset_path = \u001b[33mr\u001b[39m\u001b[33m'\u001b[39m\u001b[33mC:\u001b[39m\u001b[33m\\\u001b[39m\u001b[33mUsers\u001b[39m\u001b[33m\\\u001b[39m\u001b[33msamal\u001b[39m\u001b[33m\\\u001b[39m\u001b[33mDownloads\u001b[39m\u001b[33m\\\u001b[39m\u001b[33mCV\u001b[39m\u001b[33m\\\u001b[39m\u001b[33manimals_10\u001b[39m\u001b[33m\\\u001b[39m\u001b[33mraw-img\u001b[39m\u001b[33m'\u001b[39m\n\u001b[32m      8\u001b[39m \u001b[38;5;66;03m# List all animal classes\u001b[39;00m\n\u001b[32m----> \u001b[39m\u001b[32m9\u001b[39m animal_classes = \u001b[43mos\u001b[49m\u001b[43m.\u001b[49m\u001b[43mlistdir\u001b[49m\u001b[43m(\u001b[49m\u001b[43mdataset_path\u001b[49m\u001b[43m)\u001b[49m\n\u001b[32m     10\u001b[39m \u001b[38;5;28mprint\u001b[39m(\u001b[33m\"\u001b[39m\u001b[33mAnimal Classes:\u001b[39m\u001b[33m\"\u001b[39m, animal_classes)\n\u001b[32m     12\u001b[39m \u001b[38;5;66;03m# Display sample images\u001b[39;00m\n",
      "\u001b[31mFileNotFoundError\u001b[39m: [WinError 3] The system cannot find the path specified: 'C:\\\\Users\\\\samal\\\\Downloads\\\\CV\\\\animals_10\\\\raw-img'"
     ]
    }
   ],
   "source": [
    "import os\n",
    "import matplotlib.pyplot as plt\n",
    "from PIL import Image\n",
    "\n",
    "# Path to dataset\n",
    "dataset_path = r'C:\\Users\\samal\\Downloads\\CV\\raw-img'\n",
    "\n",
    "# List all animal classes\n",
    "animal_classes = os.listdir(dataset_path)\n",
    "print(\"Animal Classes:\", animal_classes)\n",
    "\n",
    "# Display sample images\n",
    "plt.figure(figsize=(15, 8))\n",
    "for i, animal in enumerate(animal_classes[:10]):  # Show first 10 animals\n",
    "    img_path = os.path.join(dataset_path, animal, os.listdir(os.path.join(dataset_path, animal))[0])\n",
    "    img = Image.open(img_path)\n",
    "    \n",
    "    plt.subplot(2, 5, i+1)\n",
    "    plt.imshow(img)\n",
    "    plt.title(animal)\n",
    "    plt.axis('off')\n",
    "\n",
    "plt.tight_layout()\n",
    "plt.show()"
   ]
  }
 ],
 "metadata": {
  "kernelspec": {
   "display_name": "Python 3",
   "language": "python",
   "name": "python3"
  },
  "language_info": {
   "codemirror_mode": {
    "name": "ipython",
    "version": 3
   },
   "file_extension": ".py",
   "mimetype": "text/x-python",
   "name": "python",
   "nbconvert_exporter": "python",
   "pygments_lexer": "ipython3",
   "version": "3.11.9"
  }
 },
 "nbformat": 4,
 "nbformat_minor": 5
}
